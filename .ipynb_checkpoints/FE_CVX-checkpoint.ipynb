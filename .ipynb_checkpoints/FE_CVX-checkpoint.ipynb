{
 "cells": [
  {
   "cell_type": "markdown",
   "id": "dd333b5c",
   "metadata": {
    "ExecuteTime": {
     "end_time": "2021-10-07T05:36:20.641424Z",
     "start_time": "2021-10-07T05:35:55.725112Z"
    }
   },
   "source": [
    "conda install -c conda-forge cvxpy"
   ]
  },
  {
   "cell_type": "markdown",
   "id": "ddbb11f7",
   "metadata": {
    "ExecuteTime": {
     "end_time": "2021-10-07T05:35:48.405701Z",
     "start_time": "2021-10-07T05:35:48.079137Z"
    }
   },
   "source": [
    "!conda config --remove channels 'https://mirrors.tuna.tsinghua.edu.cn/anaconda/pkgs/free/'"
   ]
  },
  {
   "cell_type": "code",
   "execution_count": 4,
   "id": "27de8c69",
   "metadata": {
    "ExecuteTime": {
     "end_time": "2021-10-11T12:02:36.363618Z",
     "start_time": "2021-10-11T12:02:36.347917Z"
    }
   },
   "outputs": [],
   "source": [
    "from cvxpy import *\n",
    "import numpy as np\n",
    "import cvxopt\n",
    "import cvxpy as cvx"
   ]
  },
  {
   "cell_type": "code",
   "execution_count": 5,
   "id": "b29a9d45",
   "metadata": {
    "ExecuteTime": {
     "end_time": "2021-10-11T12:02:43.209392Z",
     "start_time": "2021-10-11T12:02:43.196524Z"
    },
    "scrolled": true
   },
   "outputs": [
    {
     "name": "stdout",
     "output_type": "stream",
     "text": [
      "minimize QuadForm(var282, [[ 216.   70. -400.  -20.]\n",
      " [  70.   25. -150.  -20.]\n",
      " [-400. -150. 1596.   50.]\n",
      " [ -20.  -20.   50.  100.]])\n",
      "subject to Sum(var282, None, False) == 1.0\n",
      "           0.0 <= var282\n",
      "status: optimal\n",
      "optimal value 5.211722581147349\n",
      "optimal var [-1.86633808e-23  7.60955865e-01  6.94714719e-02  1.69572663e-01]\n"
     ]
    }
   ],
   "source": [
    "x = Variable(4)\n",
    "\n",
    "sigma = np.array([[216, 70, -400, -20],\n",
    "                  [70, 25, -150, -20],\n",
    "                  [-400, -150, 1596, 50],\n",
    "                  [-20, -20, 50, 100]])\n",
    "\n",
    "risk = quad_form(x,sigma)\n",
    "\n",
    "obj = Minimize(risk)\n",
    "\n",
    "cons = [cvx.sum(x) == 1, x >= 0]\n",
    "\n",
    "prob = Problem(obj, cons)\n",
    "print(prob)\n",
    "\n",
    "prob.solve()\n",
    "print(\"status:\", prob.status)\n",
    "print(\"optimal value\", prob.value)\n",
    "print(\"optimal var\", x.value)"
   ]
  },
  {
   "cell_type": "code",
   "execution_count": null,
   "id": "de187645",
   "metadata": {
    "ExecuteTime": {
     "end_time": "2021-10-11T12:02:14.560548Z",
     "start_time": "2021-10-11T12:02:13.792674Z"
    }
   },
   "outputs": [],
   "source": [
    "import numpy as np\n",
    "import cvxpy as cvx\n",
    "import matplotlib.pyplot as plt"
   ]
  },
  {
   "cell_type": "code",
   "execution_count": 2,
   "id": "a5ede06c",
   "metadata": {
    "ExecuteTime": {
     "end_time": "2021-10-11T12:02:14.560548Z",
     "start_time": "2021-10-11T12:02:13.792674Z"
    }
   },
   "outputs": [
    {
     "data": {
      "image/png": "[encoded data removed]",
      "text/plain": [
       "<Figure size 432x288 with 1 Axes>"
      ]
     },
     "metadata": {
      "needs_background": "light"
     },
     "output_type": "display_data"
    }
   ],
   "source": [
    "n = 100\n",
    "mu = np.abs(np.random.randn(n, 1)) # 产生正态分布的样本点表示收益向量\n",
    "Sigma = np.random.randn(n, n)\n",
    "\n",
    "Sigma = Sigma.T@Sigma # 生成方差-协方差矩阵\n",
    "\n",
    "def markowitz_portfolio():\n",
    "    x = cvx.Variable(n) # n维权重向量\n",
    "    gamma = cvx.Parameter(nonneg=True) # gamma值\n",
    "    ret = mu.T@x # 收益\n",
    "    risk = cvx.quad_form(x, Sigma) # 风险\n",
    "    cons = [cvx.sum(x)==1, x>=0]\n",
    "    prob = cvx.Problem(cvx.Maximize(ret - gamma*risk), cons)\n",
    "\n",
    "    n_samples = 100\n",
    "    v_risk, v_return = np.zeros(n_samples), np.zeros(n_samples)\n",
    "    v_gamma = np.logspace(-2, 3, num=n_samples)\n",
    "\n",
    "    for i in range(n_samples):\n",
    "        gamma.value = v_gamma[i]\n",
    "        prob.solve()\n",
    "#         print(\"status:\", prob.status)\n",
    "#         print(\"optimal value\", prob.value)\n",
    "#         print(\"optimal var\", x.value)\n",
    "        v_risk[i]=cvx.sqrt(risk).value\n",
    "        v_return[i]=ret.value\n",
    "\n",
    "    # plot\n",
    "    plt.plot(v_risk, v_return, 'g-') # 有效前沿\n",
    "    # 标注点\n",
    "    markers_pos = [13, 43, 57]\n",
    "    for i in markers_pos:\n",
    "        plt.plot(v_risk[i], v_return[i], 'bs')\n",
    "        plt.annotate('$\\gamma={:.2f}$'.format(v_gamma[i]), xy=[v_risk[i]+0.08, v_return[i]-0.03])\n",
    "    # 随机点\n",
    "    for i in range(n):\n",
    "        plt.plot(np.sqrt(Sigma[i, i]), mu[i], 'ro')\n",
    "\n",
    "    plt.xlabel('Std')\n",
    "    plt.ylabel('Return')\n",
    "    plt.show()\n",
    "\n",
    "\n",
    "def main():\n",
    "    markowitz_portfolio()\n",
    "\n",
    "if __name__ == '__main__':\n",
    "    main()"
   ]
  }
 ],
 "metadata": {
  "kernelspec": {
   "display_name": "Python 3",
   "language": "python",
   "name": "python3"
  },
  "language_info": {
   "codemirror_mode": {
    "name": "ipython",
    "version": 3
   },
   "file_extension": ".py",
   "mimetype": "text/x-python",
   "name": "python",
   "nbconvert_exporter": "python",
   "pygments_lexer": "ipython3",
   "version": "3.8.8"
  },
  "toc": {
   "base_numbering": 1,
   "nav_menu": {},
   "number_sections": true,
   "sideBar": true,
   "skip_h1_title": false,
   "title_cell": "Table of Contents",
   "title_sidebar": "Contents",
   "toc_cell": false,
   "toc_position": {},
   "toc_section_display": true,
   "toc_window_display": false
  },
  "varInspector": {
   "cols": {
    "lenName": 16,
    "lenType": 16,
    "lenVar": 40
   },
   "kernels_config": {
    "python": {
     "delete_cmd_postfix": "",
     "delete_cmd_prefix": "del ",
     "library": "var_list.py",
     "varRefreshCmd": "print(var_dic_list())"
    },
    "r": {
     "delete_cmd_postfix": ") ",
     "delete_cmd_prefix": "rm(",
     "library": "var_list.r",
     "varRefreshCmd": "cat(var_dic_list()) "
    }
   },
   "types_to_exclude": [
    "module",
    "function",
    "builtin_function_or_method",
    "instance",
    "_Feature"
   ],
   "window_display": false
  }
 },
 "nbformat": 4,
 "nbformat_minor": 5
}
